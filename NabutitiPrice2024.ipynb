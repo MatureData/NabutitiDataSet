{
 "cells": [
  {
   "cell_type": "code",
   "execution_count": null,
   "id": "8b365851-eeac-47d7-ad5c-96362660f647",
   "metadata": {},
   "outputs": [],
   "source": [
    "import pandas as pd\n",
    "import numpy as np\n",
    "import matplotlib.pyplot as plt\n",
    "import seaborn as sns"
   ]
  },
  {
   "cell_type": "code",
   "execution_count": null,
   "id": "dbfa4718-dd2d-42fa-97d6-67be27bafbc1",
   "metadata": {},
   "outputs": [],
   "source": [
    "data = pd.read_csv(\"housing.csv\")"
   ]
  },
  {
   "cell_type": "code",
   "execution_count": null,
   "id": "ee66b4ca-a515-4188-9ad4-fd8390fe5777",
   "metadata": {},
   "outputs": [],
   "source": [
    "data.head()"
   ]
  },
  {
   "cell_type": "code",
   "execution_count": null,
   "id": "eaf28d2a-e5bd-4fe7-b450-910efcc936d5",
   "metadata": {},
   "outputs": [],
   "source": [
    "data"
   ]
  },
  {
   "cell_type": "code",
   "execution_count": null,
   "id": "4a7d830c-54e6-4700-9d69-21c3ff93124c",
   "metadata": {},
   "outputs": [],
   "source": [
    "data.dropna(inplace=True)"
   ]
  },
  {
   "cell_type": "code",
   "execution_count": null,
   "id": "6f682e0c-86b7-4e10-8bc9-f7cd5f2887f8",
   "metadata": {},
   "outputs": [],
   "source": [
    "data.shape"
   ]
  },
  {
   "cell_type": "code",
   "execution_count": null,
   "id": "d9fa62e4-06f0-49de-a778-94cf408b936e",
   "metadata": {},
   "outputs": [],
   "source": [
    "data.isnull()"
   ]
  },
  {
   "cell_type": "code",
   "execution_count": null,
   "id": "3accd1f2-de16-4dc4-bdf8-6978564e36ac",
   "metadata": {},
   "outputs": [],
   "source": [
    "data. isnull().sum()"
   ]
  },
  {
   "cell_type": "code",
   "execution_count": null,
   "id": "a309f1d4-7722-44ff-8f5b-3655cb02b0fd",
   "metadata": {},
   "outputs": [],
   "source": [
    "data.dtypes"
   ]
  },
  {
   "cell_type": "code",
   "execution_count": null,
   "id": "742d70b8-1744-423f-a6fe-3a8390a7aea8",
   "metadata": {},
   "outputs": [],
   "source": [
    "data.info()"
   ]
  },
  {
   "cell_type": "code",
   "execution_count": null,
   "id": "26bc3177-c01e-4fce-916d-d1f574e1f672",
   "metadata": {},
   "outputs": [],
   "source": [
    "data.describe().T"
   ]
  },
  {
   "cell_type": "code",
   "execution_count": null,
   "id": "00e7ab4c-cc40-4fd6-b56c-149208a1e922",
   "metadata": {},
   "outputs": [],
   "source": [
    "from sklearn.model_selection import train_test_split\n",
    "x = data.drop(['median_house_value'], axis=1)\n",
    "y = data['median_house_value']"
   ]
  },
  {
   "cell_type": "code",
   "execution_count": null,
   "id": "36d47dd2-0a3a-4af7-aa96-79405f821172",
   "metadata": {},
   "outputs": [],
   "source": [
    "x"
   ]
  },
  {
   "cell_type": "code",
   "execution_count": null,
   "id": "4e578e57-37a0-46df-a399-416640b54fd5",
   "metadata": {},
   "outputs": [],
   "source": [
    "y"
   ]
  },
  {
   "cell_type": "code",
   "execution_count": null,
   "id": "13446795-d274-4ce4-8e91-7dd833611b34",
   "metadata": {},
   "outputs": [],
   "source": [
    "x_train, x_test, y_train, y_test = train_test_split(x, y, test_size=0.2)"
   ]
  },
  {
   "cell_type": "code",
   "execution_count": null,
   "id": "758aee02-c410-434e-8cee-1522eac5f085",
   "metadata": {},
   "outputs": [],
   "source": [
    "train_data = x_train.join(y_train) "
   ]
  },
  {
   "cell_type": "code",
   "execution_count": null,
   "id": "b32e6a1c-889e-4ee0-93cb-bb688d7a4b52",
   "metadata": {},
   "outputs": [],
   "source": [
    "train_data"
   ]
  },
  {
   "cell_type": "code",
   "execution_count": null,
   "id": "3b9d26c3-12cf-44fe-8ad8-a6c1af193c92",
   "metadata": {},
   "outputs": [],
   "source": [
    "train_data.hist(figsize=(15, 8))"
   ]
  },
  {
   "cell_type": "code",
   "execution_count": null,
   "id": "31eb7e64-a647-43c0-b64e-1cf9e51e28f5",
   "metadata": {},
   "outputs": [],
   "source": [
    "train_data.corr()"
   ]
  },
  {
   "cell_type": "code",
   "execution_count": null,
   "id": "7bba6268-c04c-44e8-a49e-c506e5a6c203",
   "metadata": {},
   "outputs": [],
   "source": [
    "plt.figure(figsize=(15, 8)) \n",
    "sns.heatmap(train_data.corr(), annot=True, cmap=\"YlGnBu\")"
   ]
  },
  {
   "cell_type": "code",
   "execution_count": null,
   "id": "0c06ffa8-c446-46be-8442-97c6e4b3e8f7",
   "metadata": {},
   "outputs": [],
   "source": [
    "train_data['total_rooms'] = np.log(train_data['total_rooms'] + 1)\n",
    "train_data['total_bedrooms'] = np.log(train_data['total_bedrooms'] + 1)\n",
    "train_data['population'] = np.log(train_data['population'] + 1)\n",
    "train_data['households'] = np.log(train_data['households'] + 1)"
   ]
  },
  {
   "cell_type": "code",
   "execution_count": null,
   "id": "42168414-4fb3-45eb-935a-dfd2059281f2",
   "metadata": {},
   "outputs": [],
   "source": [
    "train_data.hist(figsize=(15, 8))"
   ]
  },
  {
   "cell_type": "code",
   "execution_count": null,
   "id": "9c9c0bf0-6d58-44bd-9e0f-bfae7c2a5ce4",
   "metadata": {},
   "outputs": [],
   "source": [
    "train_data"
   ]
  },
  {
   "cell_type": "code",
   "execution_count": null,
   "id": "c5381c0b-7215-4166-b249-ede519abcc1e",
   "metadata": {},
   "outputs": [],
   "source": [
    "plt.figure(figsize=(15, 8)) \n",
    "sns.heatmap(train_data.corr(), annot=True, cmap=\"YlGnBu\")"
   ]
  },
  {
   "cell_type": "code",
   "execution_count": null,
   "id": "cded0caf-30e5-446a-9cec-93cc3be77f89",
   "metadata": {},
   "outputs": [],
   "source": [
    "plt.figure(figsize=(15, 8)) \n",
    "sns.scatterplot(x=\"latitude\", y=\"longitude\", data=train_data, hue=\"median_house_value\", palette=\"coolwarm\")"
   ]
  },
  {
   "cell_type": "code",
   "execution_count": null,
   "id": "779c2411-c98b-4248-a605-4af889604437",
   "metadata": {},
   "outputs": [],
   "source": [
    "train_data['bedroom_ratio'] = train_data['total_bedrooms'] / train_data['total_rooms']\n",
    "train_data['household_rooms'] = train_data['total_rooms'] / train_data['households']"
   ]
  },
  {
   "cell_type": "code",
   "execution_count": null,
   "id": "f708a6f5-2d8d-4dec-8c1d-ce8a4632d53c",
   "metadata": {},
   "outputs": [],
   "source": [
    "plt.figure(figsize=(15, 8)) \n",
    "sns.heatmap(train_data.corr(), annot=True, cmap=\"YlGnBu\")"
   ]
  },
  {
   "cell_type": "code",
   "execution_count": null,
   "id": "47ae4139-2acc-4c94-9015-3209e5bc5a83",
   "metadata": {},
   "outputs": [],
   "source": [
    "from sklearn.linear_model import LinearRegression \n",
    "\n",
    "x_train, y_train = train_data.drop(['median_house_value'], axis=1), train_data['median_house_value']\n",
    "\n",
    "reg = LinearRegression()\n",
    "\n",
    "reg.fit(x_train, y_train)"
   ]
  },
  {
   "cell_type": "code",
   "execution_count": null,
   "id": "67104458-606d-4358-b1c0-bfb54e02f23a",
   "metadata": {},
   "outputs": [],
   "source": [
    "test_data = x_test.join(y_test)\n",
    "\n",
    "test_data['total_rooms'] = np.log(test_data['total_rooms'] + 1)\n",
    "test_data['total_bedrooms'] = np.log(test_data['total_bedrooms'] + 1)\n",
    "test_data['population'] = np.log(test_data['population'] + 1)\n",
    "test_data['households'] = np.log(test_data['households'] + 1)\n",
    "\n",
    "\n",
    "\n",
    "test_data['bedroom_ratio'] = test_data['total_bedrooms'] / test_data['total_rooms']\n",
    "test_data['household_rooms'] = test_data['total_rooms'] / test_data['households']"
   ]
  },
  {
   "cell_type": "code",
   "execution_count": null,
   "id": "744dd9c6-660a-4c58-bb01-87b43dab56a7",
   "metadata": {},
   "outputs": [],
   "source": [
    "test_data"
   ]
  },
  {
   "cell_type": "code",
   "execution_count": null,
   "id": "c79bf46c-b255-45a2-bce8-df37e7414660",
   "metadata": {},
   "outputs": [],
   "source": [
    "train_data"
   ]
  },
  {
   "cell_type": "code",
   "execution_count": null,
   "id": "c1c0d47d-29c0-4651-ae0f-7deb415e85a1",
   "metadata": {},
   "outputs": [],
   "source": [
    "x_test, y_test = test_data.drop(['median_house_value'], axis=1), test_data['median_house_value']"
   ]
  },
  {
   "cell_type": "code",
   "execution_count": null,
   "id": "03c2700b-c982-45ea-9b23-dc2e5631c274",
   "metadata": {},
   "outputs": [],
   "source": [
    "reg.score(x_test, y_test)"
   ]
  },
  {
   "cell_type": "code",
   "execution_count": null,
   "id": "7e80deea-77a4-4d54-a58e-ce42bb191562",
   "metadata": {},
   "outputs": [],
   "source": [
    "reg.score(x_train, y_train)"
   ]
  },
  {
   "cell_type": "code",
   "execution_count": null,
   "id": "59214c37-b828-488c-a142-94fb84f0c1b9",
   "metadata": {},
   "outputs": [],
   "source": [
    "y_pred = reg.predict(x_test)"
   ]
  },
  {
   "cell_type": "code",
   "execution_count": null,
   "id": "ba84b003-f263-4cb0-bfa6-48414c91ebdf",
   "metadata": {},
   "outputs": [],
   "source": [
    "from sklearn.metrics import mean_squared_error"
   ]
  },
  {
   "cell_type": "code",
   "execution_count": null,
   "id": "bad022ed-a146-4143-948e-b88ac247bfc5",
   "metadata": {},
   "outputs": [],
   "source": [
    "import math"
   ]
  },
  {
   "cell_type": "code",
   "execution_count": null,
   "id": "48d12a94-94b9-470d-abca-00b703c36dd4",
   "metadata": {},
   "outputs": [],
   "source": [
    "math.sqrt(mean_squared_error(y_test, y_pred))"
   ]
  },
  {
   "cell_type": "code",
   "execution_count": null,
   "id": "c4f59f69-559c-4f1b-94ba-c11cfc39b3ea",
   "metadata": {},
   "outputs": [],
   "source": [
    "data_new = x_train[:1]"
   ]
  },
  {
   "cell_type": "code",
   "execution_count": null,
   "id": "958b623b-e901-491f-8c14-7288af01eb4d",
   "metadata": {},
   "outputs": [],
   "source": [
    "reg.predict(data_new)"
   ]
  },
  {
   "cell_type": "code",
   "execution_count": null,
   "id": "81273464-c3ec-4069-81d1-3d8fbedc086c",
   "metadata": {},
   "outputs": [],
   "source": [
    "y_train[:1]"
   ]
  },
  {
   "cell_type": "code",
   "execution_count": null,
   "id": "d5d705e1-9a23-4d86-a7df-df3553b1cbf4",
   "metadata": {},
   "outputs": [],
   "source": [
    "from sklearn.ensemble import RandomForestRegressor \n",
    "\n",
    "forest = RandomForestRegressor()\n",
    "\n",
    "forest.fit(x_train, y_train)"
   ]
  },
  {
   "cell_type": "code",
   "execution_count": null,
   "id": "6bff5b28-7094-49b4-8b08-d543fafc649c",
   "metadata": {},
   "outputs": [],
   "source": [
    "forest.score(x_test, y_test)"
   ]
  },
  {
   "cell_type": "code",
   "execution_count": null,
   "id": "e3e91821-486a-414f-a957-0889bf993634",
   "metadata": {},
   "outputs": [],
   "source": [
    "forest.score(x_train, y_train)"
   ]
  },
  {
   "cell_type": "code",
   "execution_count": null,
   "id": "c49d190c-8252-4a34-86f1-0efeedf41a72",
   "metadata": {},
   "outputs": [],
   "source": [
    "from sklearn.metrics import mean_absolute_error\n",
    "from sklearn.model_selection import train_test_split\n",
    "\n",
    "X = test_data.drop(['median_house_value'], axis=1)\n",
    "Y = test_data['median_house_value']\n",
    "\n",
    "# Split the training set into \n",
    "# training and validation set\n",
    "X_train, X_valid, Y_train, Y_valid = train_test_split(\n",
    "\tX, Y, train_size=0.8, test_size=0.2, random_state=0)"
   ]
  },
  {
   "cell_type": "code",
   "execution_count": null,
   "id": "ce2ad823-62db-478b-b111-8e03a16d11f7",
   "metadata": {},
   "outputs": [],
   "source": [
    "from sklearn import svm\n",
    "from sklearn.svm import SVC\n",
    "from sklearn.metrics import mean_absolute_percentage_error\n",
    "\n",
    "model_SVR = svm.SVR()\n",
    "model_SVR.fit(X_train, Y_train)\n",
    "Y_pred = model_SVR.predict(X_valid)\n",
    "\n",
    "print(mean_absolute_percentage_error(Y_valid, Y_pred))"
   ]
  },
  {
   "cell_type": "code",
   "execution_count": null,
   "id": "6998fca8-f759-4842-93a4-76bc09db48ee",
   "metadata": {},
   "outputs": [],
   "source": [
    "from sklearn.ensemble import RandomForestRegressor\n",
    "\n",
    "model_RFR = RandomForestRegressor(n_estimators=10)\n",
    "model_RFR.fit(X_train, Y_train)\n",
    "Y_pred = model_RFR.predict(X_valid)\n",
    "\n",
    "mean_absolute_percentage_error(Y_valid, Y_pred)"
   ]
  },
  {
   "cell_type": "code",
   "execution_count": null,
   "id": "866acf82-9e07-443c-a8e3-1aa2c08a0484",
   "metadata": {},
   "outputs": [],
   "source": [
    "from sklearn.linear_model import LinearRegression\n",
    "\n",
    "model_LR = LinearRegression()\n",
    "model_LR.fit(X_train, Y_train)\n",
    "Y_pred = model_LR.predict(X_valid)\n",
    "\n",
    "print(mean_absolute_percentage_error(Y_valid, Y_pred))"
   ]
  },
  {
   "cell_type": "code",
   "execution_count": null,
   "id": "fdaca990-cf43-4747-9804-3d1ad107dbb8",
   "metadata": {},
   "outputs": [],
   "source": [
    "data = data[[\"housing_median_age\", \"total_rooms\", \"total_bedrooms\", \"population\", \"median_income\", \"median_house_value\"]]\n",
    "data = data.rename({\"median_house_value\": \"median_house_value\"}, axis=1)\n",
    "data.head()"
   ]
  },
  {
   "cell_type": "code",
   "execution_count": null,
   "id": "cf485d39-6e1c-464a-9d62-1102308f9dd5",
   "metadata": {},
   "outputs": [],
   "source": [
    "data  = data .dropna()\n",
    "data.isnull().sum()"
   ]
  },
  {
   "cell_type": "code",
   "execution_count": null,
   "id": "f48fb9f2-25b0-47b8-b9be-6c9de752dc4e",
   "metadata": {},
   "outputs": [],
   "source": [
    "x =  data .drop(\"median_house_value\", axis=1)\n",
    "y =  data [\"median_house_value\"]"
   ]
  },
  {
   "cell_type": "code",
   "execution_count": null,
   "id": "5f4fd119-a69b-40ca-ae84-437e28f10bc3",
   "metadata": {},
   "outputs": [],
   "source": [
    "from sklearn.linear_model import LinearRegression\n",
    "linear_reg =  LinearRegression()\n",
    "linear_reg.fit(x , y)"
   ]
  },
  {
   "cell_type": "code",
   "execution_count": null,
   "id": "141138d0-383e-4d3f-b5de-dcc5bed108e5",
   "metadata": {},
   "outputs": [],
   "source": [
    "y_pred  = linear_reg.predict(x)"
   ]
  },
  {
   "cell_type": "code",
   "execution_count": null,
   "id": "9f24f2a6-26ca-4675-b37e-af314babe832",
   "metadata": {},
   "outputs": [],
   "source": [
    "from sklearn.metrics import mean_squared_error, mean_absolute_error\n",
    "import numpy as np\n",
    "error = np.sqrt(mean_squared_error(y , y_pred))"
   ]
  },
  {
   "cell_type": "code",
   "execution_count": null,
   "id": "c6e228bd-50a9-414a-b212-99327a5281c7",
   "metadata": {},
   "outputs": [],
   "source": [
    "error"
   ]
  },
  {
   "cell_type": "code",
   "execution_count": null,
   "id": "ba4b30eb-4014-42a1-818f-0d19a4f80df9",
   "metadata": {},
   "outputs": [],
   "source": [
    "from sklearn.tree import DecisionTreeRegressor\n",
    "dec_tree_reg = DecisionTreeRegressor(random_state=0)\n",
    "dec_tree_reg.fit(x , y)"
   ]
  },
  {
   "cell_type": "code",
   "execution_count": null,
   "id": "ecd58d6c-109e-425a-a719-3a53aa94f05b",
   "metadata": {},
   "outputs": [],
   "source": [
    "y_pred = dec_tree_reg.predict(x)"
   ]
  },
  {
   "cell_type": "code",
   "execution_count": null,
   "id": "5840bfa2-2f03-486d-9987-a51ab08461c1",
   "metadata": {},
   "outputs": [],
   "source": [
    "error = np.sqrt(mean_squared_error(y , y_pred))\n",
    "print(\"${:,.02f}\".format(error))"
   ]
  },
  {
   "cell_type": "code",
   "execution_count": null,
   "id": "26480a1b-d481-4fb8-8e82-c95cf772405c",
   "metadata": {},
   "outputs": [],
   "source": [
    "from sklearn.ensemble import RandomForestRegressor \n",
    "random_forest_reg = RandomForestRegressor(random_state=0)\n",
    "random_forest_reg.fit(x , y)"
   ]
  },
  {
   "cell_type": "code",
   "execution_count": null,
   "id": "f716c824-f4e2-4ed0-ae92-e8fbfc1d0545",
   "metadata": {},
   "outputs": [],
   "source": [
    "y_pred = random_forest_reg.predict(x)"
   ]
  },
  {
   "cell_type": "code",
   "execution_count": null,
   "id": "a4aab2ae-9b08-4dbb-bc18-abc386d0fc77",
   "metadata": {},
   "outputs": [],
   "source": [
    "error = np.sqrt(mean_squared_error(y, y_pred))\n",
    "print(\"${:,.02f}\".format(error))"
   ]
  },
  {
   "cell_type": "code",
   "execution_count": null,
   "id": "960feae9-279a-4824-a8b2-38c74c5cd59b",
   "metadata": {},
   "outputs": [],
   "source": [
    "x"
   ]
  }
 ],
 "metadata": {
  "kernelspec": {
   "display_name": "Python 3 (ipykernel)",
   "language": "python",
   "name": "python3"
  },
  "language_info": {
   "codemirror_mode": {
    "name": "ipython",
    "version": 3
   },
   "file_extension": ".py",
   "mimetype": "text/x-python",
   "name": "python",
   "nbconvert_exporter": "python",
   "pygments_lexer": "ipython3",
   "version": "3.11.7"
  }
 },
 "nbformat": 4,
 "nbformat_minor": 5
}
